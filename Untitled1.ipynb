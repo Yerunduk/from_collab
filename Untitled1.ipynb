{
  "nbformat": 4,
  "nbformat_minor": 0,
  "metadata": {
    "colab": {
      "provenance": [],
      "authorship_tag": "ABX9TyOz4T6Nr2eoU5a2cPiUMBmE",
      "include_colab_link": true
    },
    "kernelspec": {
      "name": "python3",
      "display_name": "Python 3"
    },
    "language_info": {
      "name": "python"
    }
  },
  "cells": [
    {
      "cell_type": "markdown",
      "metadata": {
        "id": "view-in-github",
        "colab_type": "text"
      },
      "source": [
        "<a href=\"https://colab.research.google.com/github/Yerunduk/from_collab/blob/main/Untitled1.ipynb\" target=\"_parent\"><img src=\"https://colab.research.google.com/assets/colab-badge.svg\" alt=\"Open In Colab\"/></a>"
      ]
    },
    {
      "cell_type": "code",
      "execution_count": 12,
      "metadata": {
        "colab": {
          "base_uri": "https://localhost:8080/",
          "height": 39
        },
        "id": "VYjxDgUdCm1z",
        "outputId": "9975028d-c9f1-4843-ffec-f2ad6a35094a"
      },
      "outputs": [
        {
          "output_type": "execute_result",
          "data": {
            "text/plain": [
              "Eq(v(t), 980.0 - 980.0*exp(-0.01*t))"
            ],
            "text/latex": "$\\displaystyle v{\\left(t \\right)} = 980.0 - 980.0 e^{- 0.01 t}$"
          },
          "metadata": {},
          "execution_count": 12
        }
      ],
      "source": [
        "from sympy import *\n",
        "t = symbols(\"t\")\n",
        "v = Function(\"v\")\n",
        "h = Function(\"h\")\n",
        "\n",
        "dvdt = Derivative(v,t)\n",
        "dhdr = Derivative(h,t)\n",
        "\n",
        "vt = dsolve(Eq(v(t).diff(), 9.8-0.01*v(t)),ics={v(0):0})\n",
        "vt"
      ]
    },
    {
      "cell_type": "code",
      "source": [
        "ht = dsolve(Eq(h(t).diff(), vt.rhs),ics={h(0):0})\n",
        "ht"
      ],
      "metadata": {
        "colab": {
          "base_uri": "https://localhost:8080/",
          "height": 39
        },
        "id": "mmVF8n9Pl34w",
        "outputId": "d8ab6215-5a14-4e22-a196-737edbd74961"
      },
      "execution_count": 13,
      "outputs": [
        {
          "output_type": "execute_result",
          "data": {
            "text/plain": [
              "Eq(h(t), 980*t - 98000.0 + 98000.0*exp(-0.01*t))"
            ],
            "text/latex": "$\\displaystyle h{\\left(t \\right)} = 980 t - 98000.0 + 98000.0 e^{- 0.01 t}$"
          },
          "metadata": {},
          "execution_count": 13
        }
      ]
    },
    {
      "cell_type": "code",
      "source": [
        "plot(50-ht.rhs, (t,0,3.5))"
      ],
      "metadata": {
        "colab": {
          "base_uri": "https://localhost:8080/",
          "height": 314
        },
        "id": "DDUz43B8l9vN",
        "outputId": "fdfce9f7-ada6-44c9-9a04-ecf0bc81bb77"
      },
      "execution_count": 14,
      "outputs": [
        {
          "output_type": "display_data",
          "data": {
            "text/plain": [
              "<Figure size 432x288 with 1 Axes>"
            ],
            "image/png": "[encoded data removed]"
          },
          "metadata": {
            "needs_background": "light"
          }
        },
        {
          "output_type": "execute_result",
          "data": {
            "text/plain": [
              "<sympy.plotting.plot.Plot at 0x7f6202137590>"
            ]
          },
          "metadata": {},
          "execution_count": 14
        }
      ]
    },
    {
      "cell_type": "code",
      "source": [
        "tmax = nsolve(50-ht.rhs,t,5)\n",
        "tmax"
      ],
      "metadata": {
        "colab": {
          "base_uri": "https://localhost:8080/",
          "height": 37
        },
        "id": "WbHf_Qv0mWSX",
        "outputId": "9613e3f6-0117-4151-bdd3-f997b40bd5fa"
      },
      "execution_count": 15,
      "outputs": [
        {
          "output_type": "execute_result",
          "data": {
            "text/plain": [
              "3.21148055785704"
            ],
            "text/latex": "$\\displaystyle 3.21148055785704$"
          },
          "metadata": {},
          "execution_count": 15
        }
      ]
    },
    {
      "cell_type": "code",
      "source": [
        "vt.subs(t,tmax)"
      ],
      "metadata": {
        "colab": {
          "base_uri": "https://localhost:8080/",
          "height": 39
        },
        "id": "AOhJYqczmq9y",
        "outputId": "3cad6ac3-a12b-447c-e5ea-a5a99530b59f"
      },
      "execution_count": 16,
      "outputs": [
        {
          "output_type": "execute_result",
          "data": {
            "text/plain": [
              "Eq(v(3.21148055785704), 30.9725094669991)"
            ],
            "text/latex": "$\\displaystyle v{\\left(3.21148055785704 \\right)} = 30.9725094669991$"
          },
          "metadata": {},
          "execution_count": 16
        }
      ]
    }
  ]
}